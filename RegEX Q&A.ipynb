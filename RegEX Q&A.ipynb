{
 "cells": [
  {
   "cell_type": "code",
   "execution_count": 2,
   "id": "7a513593",
   "metadata": {},
   "outputs": [],
   "source": [
    "# Regular Expression Practice Questions"
   ]
  },
  {
   "cell_type": "code",
   "execution_count": 3,
   "id": "1bedf687",
   "metadata": {},
   "outputs": [],
   "source": [
    "import re"
   ]
  },
  {
   "cell_type": "code",
   "execution_count": 4,
   "id": "5342da59",
   "metadata": {},
   "outputs": [],
   "source": [
    "# Question 1- Write a RegEx pattern in python program to check that a string contains only a certain set of characters (in this case a-z, A-Z and 0-9)."
   ]
  },
  {
   "cell_type": "code",
   "execution_count": 5,
   "id": "faf1242a",
   "metadata": {},
   "outputs": [],
   "source": [
    "def set_of_char(string):\n",
    "    x = re.compile(r'[^a-zA-Z0-9]')\n",
    "    string = x.search(string)\n",
    "    return not bool(string)"
   ]
  },
  {
   "cell_type": "code",
   "execution_count": 6,
   "id": "ab041a84",
   "metadata": {},
   "outputs": [
    {
     "name": "stdout",
     "output_type": "stream",
     "text": [
      "True\n",
      "False\n"
     ]
    }
   ],
   "source": [
    "print(set_of_char('ABCDEFabcdef123450'))\n",
    "print(set_of_char('#@&asAS'))"
   ]
  },
  {
   "cell_type": "code",
   "execution_count": 7,
   "id": "42139af4",
   "metadata": {},
   "outputs": [],
   "source": [
    "# Question 2- Write a RegEx pattern that matches a string that has an a followed by zero or more b's"
   ]
  },
  {
   "cell_type": "code",
   "execution_count": 8,
   "id": "41279856",
   "metadata": {},
   "outputs": [],
   "source": [
    "def text_match(x):\n",
    "    patterns = '^a(b*)$'\n",
    "    if re.search(patterns, x):\n",
    "        return 'match'\n",
    "    else:\n",
    "        return 'not match! '"
   ]
  },
  {
   "cell_type": "code",
   "execution_count": 9,
   "id": "3b80f473",
   "metadata": {},
   "outputs": [
    {
     "name": "stdout",
     "output_type": "stream",
     "text": [
      "match\n",
      "not match! \n",
      "not match! \n",
      "not match! \n",
      "match\n",
      "match\n",
      "match\n"
     ]
    }
   ],
   "source": [
    "print(text_match(\"ab\"))\n",
    "print(text_match(\"abc\"))\n",
    "print(text_match(\"aabb\"))\n",
    "print(text_match(\"aabbcc\"))\n",
    "print(text_match(\"a\"))\n",
    "print(text_match(\"abb\"))\n",
    "print(text_match(\"abbbbbbb\"))"
   ]
  },
  {
   "cell_type": "code",
   "execution_count": 10,
   "id": "84714500",
   "metadata": {},
   "outputs": [],
   "source": [
    "# Question 3-  Write a RegEx pattern that matches a string that has an a followed by one or more b's"
   ]
  },
  {
   "cell_type": "code",
   "execution_count": 11,
   "id": "5f95d8fe",
   "metadata": {},
   "outputs": [],
   "source": [
    "def text_match(y):\n",
    "    patterns = \"ab+?\"\n",
    "    if re.search(patterns, y):\n",
    "        return \"found match! \"\n",
    "    else:\n",
    "        return \"found not match!! \""
   ]
  },
  {
   "cell_type": "code",
   "execution_count": 12,
   "id": "e3eed397",
   "metadata": {},
   "outputs": [
    {
     "name": "stdout",
     "output_type": "stream",
     "text": [
      "found match! \n",
      "found match! \n",
      "found not match!! \n",
      "found match! \n"
     ]
    }
   ],
   "source": [
    "print(text_match(\"ab\"))\n",
    "print(text_match(\"abbcc\"))\n",
    "print(text_match(\"a\"))\n",
    "print(text_match(\"abc\"))"
   ]
  },
  {
   "cell_type": "code",
   "execution_count": 13,
   "id": "8c7400e9",
   "metadata": {},
   "outputs": [],
   "source": [
    "# Question 4- Write a RegEx pattern that matches a string that has an a followed by zero or one 'b'."
   ]
  },
  {
   "cell_type": "code",
   "execution_count": 14,
   "id": "cac1b842",
   "metadata": {},
   "outputs": [],
   "source": [
    "def text_match(text):\n",
    "    patterns = \"ab?\"\n",
    "    if re.search(patterns, text):\n",
    "        return 'Success'\n",
    "    else:\n",
    "        return 'Not Success'"
   ]
  },
  {
   "cell_type": "code",
   "execution_count": 15,
   "id": "e1e37bb7",
   "metadata": {},
   "outputs": [
    {
     "name": "stdout",
     "output_type": "stream",
     "text": [
      "Success\n",
      "Success\n",
      "Success\n",
      "Success\n",
      "Success\n",
      "Not Success\n",
      "Success\n"
     ]
    }
   ],
   "source": [
    "print(text_match('a'))\n",
    "print(text_match('ab'))\n",
    "print(text_match('aabb'))\n",
    "print(text_match('abc'))\n",
    "print(text_match('abcd'))\n",
    "print(text_match('cdef'))\n",
    "print(text_match('acd'))"
   ]
  },
  {
   "cell_type": "code",
   "execution_count": 16,
   "id": "b4b01e4b",
   "metadata": {},
   "outputs": [],
   "source": [
    "# Question 5- Write a RegEx pattern in python program that matches a string that has an a followed by three 'b'."
   ]
  },
  {
   "cell_type": "code",
   "execution_count": 17,
   "id": "3bd16367",
   "metadata": {},
   "outputs": [],
   "source": [
    "def text_match(hi):\n",
    "    patterns = 'ab{3}'\n",
    "    if re.search(patterns, hi):\n",
    "        return \"matched! \"\n",
    "    else:\n",
    "        return \"not matched!! \""
   ]
  },
  {
   "cell_type": "code",
   "execution_count": 18,
   "id": "89086385",
   "metadata": {},
   "outputs": [
    {
     "name": "stdout",
     "output_type": "stream",
     "text": [
      "not matched!! \n",
      "not matched!! \n",
      "matched! \n",
      "matched! \n",
      "matched! \n"
     ]
    }
   ],
   "source": [
    "print(text_match('a'))\n",
    "print(text_match('abb'))\n",
    "print(text_match('abbb'))\n",
    "print(text_match('abbbb'))\n",
    "print(text_match('abbbbcdefggggg'))"
   ]
  },
  {
   "cell_type": "code",
   "execution_count": 19,
   "id": "6817ec64",
   "metadata": {},
   "outputs": [],
   "source": [
    "# Question 6- Write a RegEx pattern in python program that matches a string that has an a followed by two to three 'b'."
   ]
  },
  {
   "cell_type": "code",
   "execution_count": 20,
   "id": "3d1aa2eb",
   "metadata": {},
   "outputs": [
    {
     "name": "stdout",
     "output_type": "stream",
     "text": [
      "not matched!! \n",
      "not matched!! \n",
      "not matched!! \n",
      "not matched!! \n",
      "not matched!! \n",
      "matched! \n"
     ]
    }
   ],
   "source": [
    "def hello(x):\n",
    "    patterns = \"ab{2,3}\"\n",
    "    if re.search(patterns, x):\n",
    "        return \"Found a Match ! \"\n",
    "    else:\n",
    "        return \"Not Match !! \"\n",
    "\n",
    "print(text_match('a'))\n",
    "print(text_match('aa'))\n",
    "print(text_match('ab'))\n",
    "print(text_match(\"aabb\"))\n",
    "print(text_match(\"abcd\"))\n",
    "print(text_match(\"abbbbbcd\"))"
   ]
  },
  {
   "cell_type": "code",
   "execution_count": 21,
   "id": "c2cc3e15",
   "metadata": {},
   "outputs": [],
   "source": [
    "# Question 7- Write a Python program that matches a string that has an 'a' followed by anything, ending in 'b'."
   ]
  },
  {
   "cell_type": "code",
   "execution_count": 22,
   "id": "9bd8aeda",
   "metadata": {},
   "outputs": [],
   "source": [
    "def text_match(text):\n",
    "    patterns = 'a.*?b$'\n",
    "    if re.search(patterns, text):\n",
    "        return 'Match ! '\n",
    "    else:\n",
    "        return 'Not match ! '"
   ]
  },
  {
   "cell_type": "code",
   "execution_count": 23,
   "id": "d7bbc6f3",
   "metadata": {},
   "outputs": [
    {
     "name": "stdout",
     "output_type": "stream",
     "text": [
      "Not match ! \n",
      "Not match ! \n",
      "Not match ! \n",
      "Match ! \n",
      "Match ! \n"
     ]
    }
   ],
   "source": [
    "print(text_match('a'))\n",
    "print(text_match('abbbbbcddd'))\n",
    "print(text_match('aabbccdd'))\n",
    "print(text_match('aghhhjsbbbdssrrdssbb'))\n",
    "print(text_match('asunshineb'))\n"
   ]
  },
  {
   "cell_type": "code",
   "execution_count": 24,
   "id": "cbf64a34",
   "metadata": {},
   "outputs": [],
   "source": [
    "# Question 8- Write a RegEx pattern in python program that matches a word at the beginning of a string."
   ]
  },
  {
   "cell_type": "code",
   "execution_count": 25,
   "id": "fa9a0f68",
   "metadata": {},
   "outputs": [
    {
     "name": "stdout",
     "output_type": "stream",
     "text": [
      "Success\n",
      "Unsuccess\n"
     ]
    }
   ],
   "source": [
    "def text_match(word):\n",
    "    patterns = \"^\\w+\"\n",
    "    if re.search(patterns, word):\n",
    "        return \"Success\"\n",
    "    else:\n",
    "        return \"Unsuccess\"\n",
    "\n",
    "print(text_match(\"This is RegEx in Python programming\"))\n",
    "print(text_match(\" Hi, this is Regular Expression topic in Python\"))"
   ]
  },
  {
   "cell_type": "code",
   "execution_count": 26,
   "id": "bc93fe6d",
   "metadata": {},
   "outputs": [],
   "source": [
    "# Question 9- Write a RegEx pattern in python program that matches a word at the end of a string."
   ]
  },
  {
   "cell_type": "code",
   "execution_count": 27,
   "id": "4b5003e7",
   "metadata": {},
   "outputs": [
    {
     "name": "stdout",
     "output_type": "stream",
     "text": [
      "Unsuccess\n",
      "Unsuccess\n",
      "Success\n"
     ]
    }
   ],
   "source": [
    "def text_match(word):\n",
    "    patterns = \"\\w+\\S*$\"\n",
    "    if re.search(patterns, word):\n",
    "        return \"Success\"\n",
    "    else:\n",
    "        return \"Unsuccess\"\n",
    "\n",
    "print(text_match(\"This is RegEx in Python programming. \"))\n",
    "print(text_match(\"This is RegEx in Python programming. \"))\n",
    "print(text_match(\"This is RegEx in Python programming\"))"
   ]
  },
  {
   "cell_type": "code",
   "execution_count": 28,
   "id": "1e2ec953",
   "metadata": {},
   "outputs": [],
   "source": [
    "# Question 10- Write a RegEx pattern in python program to find all words that are 4 digits long in a string.\n",
    "# Sample text- '01 0132 231875 1458 301 2725.'\n",
    "# Expected output- ['0132', '1458', '2725']"
   ]
  },
  {
   "cell_type": "code",
   "execution_count": 32,
   "id": "9636ccdc",
   "metadata": {},
   "outputs": [
    {
     "name": "stdout",
     "output_type": "stream",
     "text": [
      "['0132', '231875', '1458', '2725']\n"
     ]
    }
   ],
   "source": [
    "text = \"01 0132 231875 1458 301 2725.\"\n",
    "print(re.findall(r\"\\b\\w{4,}\\b\", text))"
   ]
  },
  {
   "cell_type": "code",
   "execution_count": 38,
   "id": "dca0a692",
   "metadata": {},
   "outputs": [
    {
     "name": "stdout",
     "output_type": "stream",
     "text": [
      "\n",
      "\n",
      "****************************************************************************************************\n",
      "                               Regular Expression Practice Questions                           \n",
      "\n",
      "\n",
      "****************************************************************************************************\n"
     ]
    }
   ],
   "source": [
    "print(\"\\n\")\n",
    "print(\"*\" * 100)\n",
    "print(\"                               Regular Expression Practice Questions                           \")\n",
    "print(\"\\n\")\n",
    "print(\"*\" * 100)"
   ]
  },
  {
   "cell_type": "code",
   "execution_count": null,
   "id": "909fbb66",
   "metadata": {},
   "outputs": [],
   "source": []
  }
 ],
 "metadata": {
  "kernelspec": {
   "display_name": "Python 3 (ipykernel)",
   "language": "python",
   "name": "python3"
  },
  "language_info": {
   "codemirror_mode": {
    "name": "ipython",
    "version": 3
   },
   "file_extension": ".py",
   "mimetype": "text/x-python",
   "name": "python",
   "nbconvert_exporter": "python",
   "pygments_lexer": "ipython3",
   "version": "3.11.4"
  }
 },
 "nbformat": 4,
 "nbformat_minor": 5
}
